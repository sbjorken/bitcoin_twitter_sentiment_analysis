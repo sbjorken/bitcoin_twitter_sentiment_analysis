{
 "cells": [
  {
   "cell_type": "markdown",
   "metadata": {},
   "source": [
    "# Bitcoin Twitter Sentiment Analysis"
   ]
  },
  {
   "cell_type": "markdown",
   "metadata": {},
   "source": [
    "## 1. Imports"
   ]
  },
  {
   "cell_type": "code",
   "execution_count": 1,
   "metadata": {},
   "outputs": [],
   "source": [
    "import numpy as np\n",
    "import pandas as pd\n",
    "import tweepy\n",
    "import json\n",
    "import re\n",
    "import nltk\n",
    "import gensim\n",
    "import matplotlib.pyplot as plt\n",
    "import seaborn as sns\n",
    "from datetime import datetime, timedelta\n",
    "from pymongo import MongoClient\n",
    "from nltk.probability import FreqDist\n",
    "from nltk.corpus import wordnet\n",
    "from nltk.stem import WordNetLemmatizer\n",
    "from nltk.sentiment.vader import SentimentIntensityAnalyzer\n",
    "from sklearn.feature_extraction.text import CountVectorizer"
   ]
  },
  {
   "cell_type": "markdown",
   "metadata": {},
   "source": [
    "## 2. Set up MongoDB"
   ]
  },
  {
   "cell_type": "markdown",
   "metadata": {},
   "source": [
    "__The database will be used to stored all the downloaded tweets__"
   ]
  },
  {
   "cell_type": "code",
   "execution_count": 2,
   "metadata": {},
   "outputs": [],
   "source": [
    "client = MongoClient('localhost', 27017)\n",
    "db = client['twitterdb']\n",
    "db['tweets'].drop()\n",
    "col = db['tweets']"
   ]
  },
  {
   "cell_type": "markdown",
   "metadata": {},
   "source": [
    "## 3. Set up Twitter API"
   ]
  },
  {
   "cell_type": "markdown",
   "metadata": {},
   "source": [
    "__Twitter developer account can be set up here: https://developer.twitter.com/.__"
   ]
  },
  {
   "cell_type": "code",
   "execution_count": 3,
   "metadata": {},
   "outputs": [],
   "source": [
    "# Define keys needed to connect\n",
    "API_key = '<API_key>'\n",
    "API_key_secret = '<API_key_secret'\n",
    "\n",
    "access_token = '<access_token>'\n",
    "access_token_secret = '<access_token_secret>'"
   ]
  },
  {
   "cell_type": "code",
   "execution_count": 4,
   "metadata": {},
   "outputs": [],
   "source": [
    "# Use tweepy to connect to the API\n",
    "auth = tweepy.OAuthHandler(API_key, API_key_secret)\n",
    "auth.set_access_token(access_token, access_token_secret)\n",
    "api = tweepy.API(auth, wait_on_rate_limit=True)"
   ]
  },
  {
   "cell_type": "code",
   "execution_count": 5,
   "metadata": {},
   "outputs": [
    {
     "name": "stdout",
     "output_type": "stream",
     "text": [
      "Authentication OK\n"
     ]
    }
   ],
   "source": [
    "# Check if API connection is ok\n",
    "try:\n",
    "    api.verify_credentials()\n",
    "    print(\"Authentication OK\")\n",
    "except:\n",
    "    print(\"Error during authentication\")"
   ]
  },
  {
   "cell_type": "markdown",
   "metadata": {},
   "source": [
    "## 4. Import tweets to MongoDB"
   ]
  },
  {
   "cell_type": "code",
   "execution_count": 6,
   "metadata": {},
   "outputs": [],
   "source": [
    "# Define the key word(s) and number of tweets to search for\n",
    "search_string = ['bitcoin', '-filter:retweets']\n",
    "search_numbertweets = 1000"
   ]
  },
  {
   "cell_type": "code",
   "execution_count": 7,
   "metadata": {},
   "outputs": [
    {
     "name": "stdout",
     "output_type": "stream",
     "text": [
      "Wall time: 16min 10s\n"
     ]
    }
   ],
   "source": [
    "%%time\n",
    "\n",
    "# Start collecting tweets from one week prior to today's date\n",
    "today = datetime.now()\n",
    "start = (today - timedelta(days=7)).strftime('%Y-%m-%d')\n",
    "end = today.strftime('%Y-%m-%d')\n",
    "\n",
    "# The Cursor objects handles pagination to iterate through the tweets to grab\n",
    "tweets = tweepy.Cursor(api.search, q=search_string, count=5, lang=\"en\", \n",
    "                       since=start, until=end).items(search_numbertweets)\n",
    "\n",
    "# Loop through all tweets\n",
    "while True:\n",
    "    try:\n",
    "        data = tweets.next()\n",
    "    except StopIteration:\n",
    "        break\n",
    "    # Convert from JSON format to Python dict\n",
    "    jsoned_data = json.dumps(data._json)\n",
    "    tweet = json.loads(jsoned_data)\n",
    "    # Insert into the database\n",
    "    col.insert_one(tweet)"
   ]
  },
  {
   "cell_type": "code",
   "execution_count": 8,
   "metadata": {},
   "outputs": [],
   "source": [
    "# Call the find() method without parameters to return all documents \n",
    "# incl. all of their fields from the collection and store in a df\n",
    "documents = col.find()\n",
    "df = pd.DataFrame(list(documents))"
   ]
  },
  {
   "cell_type": "markdown",
   "metadata": {},
   "source": [
    "## 5. Preprocess tweets"
   ]
  },
  {
   "cell_type": "markdown",
   "metadata": {},
   "source": [
    "__Define a class that preprocesses every tweet before analyzing them. Preprocessing includes:__\n",
    "- __Remove whitespaces__: Removes all trailing whitespaces at the end of the tweet\n",
    "- __Filter alphabetic__: Encodes as ascii then decodes as ascii to remove emojis, etc.\n",
    "- __Lowercase__: Sentiment analysis should disregard any uppercase duplicates\n",
    "- __Lemmatize__: Finally apply nltk's lemmatize to group together different inflected forms of a word"
   ]
  },
  {
   "cell_type": "code",
   "execution_count": 9,
   "metadata": {},
   "outputs": [],
   "source": [
    "class TweetPreprocessor:\n",
    "    \n",
    "    \"\"\"\n",
    "    Input:\n",
    "        Downloaded tweets from the Twitter API\n",
    "    \n",
    "    Attributes:\n",
    "        df : dataframe\n",
    "            A dataframe containing the collected tweets\n",
    "    \n",
    "    Output:\n",
    "        A cleaned dataframe with the collected tweets\n",
    "        \n",
    "    \"\"\"\n",
    "    \n",
    "    # Instantiate the WordNetLemmatizer as a class attribute\n",
    "    lemmatizer = WordNetLemmatizer()   \n",
    "    \n",
    "    def __init__(self, df):\n",
    "        self.df = df\n",
    "    \n",
    "    def __remove_whitespaces(self):\n",
    "        \"\"\" Replaces any part of the tweet containing duplicate whitespaces with a single space \"\"\"\n",
    "        self.df['text'] = self.df['text'].map(lambda x: re.sub('\\s+', ' ', str(x)).strip())\n",
    "\n",
    "    def __filter_alphabetic(self):\n",
    "        \"\"\" Removes emojis, etc. by first encoding and then decoding the tweet as ascii \"\"\"\n",
    "        self.df['text'] = self.df['text'].map(lambda x: x.encode('ascii', 'ignore').decode('ascii', 'ignore'))\n",
    "    \n",
    "    def __lowercase(self):\n",
    "        \"\"\" Change all characters in the tweet to lowercase \"\"\"\n",
    "        self.df['text'] = self.df['text'].map(lambda x: x.lower() if isinstance(x, str) else x)\n",
    "        \n",
    "    def __lemmatize(self):\n",
    "        \"\"\" \n",
    "        Transform the tweet to group together different inflected types of words by mapping their\n",
    "        POS tag (part of speech) to one of four word classes and then applying the lemmatizer\n",
    "        \"\"\"\n",
    "        def get_wordnet_pos(word):\n",
    "            tag = nltk.pos_tag([word])[0][1][0].upper()\n",
    "            tag_dict = {\"J\": wordnet.ADJ,\n",
    "                        \"N\": wordnet.NOUN,\n",
    "                        \"V\": wordnet.VERB,\n",
    "                        \"R\": wordnet.ADV}\n",
    "            return tag_dict.get(tag, wordnet.NOUN)\n",
    "        \n",
    "        self.df['lemmatized_text'] = self.df['text'].apply(\n",
    "            lambda x: ' '.join(self.lemmatizer.lemmatize(w, get_wordnet_pos(w)) for w in nltk.word_tokenize(x)))\n",
    "        \n",
    "        return self.df\n",
    "    \n",
    "    def preprocess_data(self):\n",
    "        self.__remove_whitespaces()\n",
    "        self.__filter_alphabetic()\n",
    "        self.__lowercase()\n",
    "        self.__lemmatize()\n",
    "        \n",
    "        return self.df"
   ]
  },
  {
   "cell_type": "code",
   "execution_count": 10,
   "metadata": {},
   "outputs": [],
   "source": [
    "# Instantiate a new TweetProcessor with the df containing all the tweets\n",
    "tp = TweetPreprocessor(df)"
   ]
  },
  {
   "cell_type": "code",
   "execution_count": 11,
   "metadata": {},
   "outputs": [
    {
     "data": {
      "text/html": [
       "<div>\n",
       "<style scoped>\n",
       "    .dataframe tbody tr th:only-of-type {\n",
       "        vertical-align: middle;\n",
       "    }\n",
       "\n",
       "    .dataframe tbody tr th {\n",
       "        vertical-align: top;\n",
       "    }\n",
       "\n",
       "    .dataframe thead th {\n",
       "        text-align: right;\n",
       "    }\n",
       "</style>\n",
       "<table border=\"1\" class=\"dataframe\">\n",
       "  <thead>\n",
       "    <tr style=\"text-align: right;\">\n",
       "      <th></th>\n",
       "      <th>_id</th>\n",
       "      <th>created_at</th>\n",
       "      <th>id</th>\n",
       "      <th>id_str</th>\n",
       "      <th>text</th>\n",
       "      <th>truncated</th>\n",
       "      <th>entities</th>\n",
       "      <th>metadata</th>\n",
       "      <th>source</th>\n",
       "      <th>in_reply_to_status_id</th>\n",
       "      <th>...</th>\n",
       "      <th>favorited</th>\n",
       "      <th>retweeted</th>\n",
       "      <th>lang</th>\n",
       "      <th>possibly_sensitive</th>\n",
       "      <th>retweeted_status</th>\n",
       "      <th>quoted_status_id</th>\n",
       "      <th>quoted_status_id_str</th>\n",
       "      <th>quoted_status</th>\n",
       "      <th>extended_entities</th>\n",
       "      <th>lemmatized_text</th>\n",
       "    </tr>\n",
       "  </thead>\n",
       "  <tbody>\n",
       "    <tr>\n",
       "      <th>0</th>\n",
       "      <td>5f69f23fe2a814bf79d44352</td>\n",
       "      <td>Mon Sep 21 23:59:56 +0000 2020</td>\n",
       "      <td>1308194281237016579</td>\n",
       "      <td>1308194281237016579</td>\n",
       "      <td>@haydentiff @bgarlinghouse @chrislarsensf @joe...</td>\n",
       "      <td>True</td>\n",
       "      <td>{'hashtags': [], 'symbols': [], 'user_mentions...</td>\n",
       "      <td>{'iso_language_code': 'en', 'result_type': 're...</td>\n",
       "      <td>&lt;a href=\"https://mobile.twitter.com\" rel=\"nofo...</td>\n",
       "      <td>1.308193e+18</td>\n",
       "      <td>...</td>\n",
       "      <td>False</td>\n",
       "      <td>False</td>\n",
       "      <td>en</td>\n",
       "      <td>NaN</td>\n",
       "      <td>NaN</td>\n",
       "      <td>NaN</td>\n",
       "      <td>NaN</td>\n",
       "      <td>NaN</td>\n",
       "      <td>NaN</td>\n",
       "      <td>@ haydentiff @ bgarlinghouse @ chrislarsensf @...</td>\n",
       "    </tr>\n",
       "    <tr>\n",
       "      <th>1</th>\n",
       "      <td>5f69f23fe2a814bf79d44353</td>\n",
       "      <td>Mon Sep 21 23:59:52 +0000 2020</td>\n",
       "      <td>1308194265756045314</td>\n",
       "      <td>1308194265756045314</td>\n",
       "      <td>#investing 165.3% in this optimal #crypto port...</td>\n",
       "      <td>True</td>\n",
       "      <td>{'hashtags': [{'text': 'Investing', 'indices':...</td>\n",
       "      <td>{'iso_language_code': 'en', 'result_type': 're...</td>\n",
       "      <td>&lt;a href=\"http://www.nalint.com/crypto\" rel=\"no...</td>\n",
       "      <td>NaN</td>\n",
       "      <td>...</td>\n",
       "      <td>False</td>\n",
       "      <td>False</td>\n",
       "      <td>en</td>\n",
       "      <td>False</td>\n",
       "      <td>NaN</td>\n",
       "      <td>NaN</td>\n",
       "      <td>NaN</td>\n",
       "      <td>NaN</td>\n",
       "      <td>NaN</td>\n",
       "      <td># invest 165.3 % in this optimal # crypto port...</td>\n",
       "    </tr>\n",
       "    <tr>\n",
       "      <th>2</th>\n",
       "      <td>5f69f23fe2a814bf79d44354</td>\n",
       "      <td>Mon Sep 21 23:59:51 +0000 2020</td>\n",
       "      <td>1308194260219355136</td>\n",
       "      <td>1308194260219355136</td>\n",
       "      <td>rt @davidgokhshtein: i will give someone $20 i...</td>\n",
       "      <td>False</td>\n",
       "      <td>{'hashtags': [], 'symbols': [], 'user_mentions...</td>\n",
       "      <td>{'iso_language_code': 'en', 'result_type': 're...</td>\n",
       "      <td>&lt;a href=\"http://twitter.com/download/android\" ...</td>\n",
       "      <td>NaN</td>\n",
       "      <td>...</td>\n",
       "      <td>False</td>\n",
       "      <td>False</td>\n",
       "      <td>en</td>\n",
       "      <td>NaN</td>\n",
       "      <td>{'created_at': 'Mon Sep 21 23:32:58 +0000 2020...</td>\n",
       "      <td>NaN</td>\n",
       "      <td>NaN</td>\n",
       "      <td>NaN</td>\n",
       "      <td>NaN</td>\n",
       "      <td>rt @ davidgokhshtein : i will give someone $ 2...</td>\n",
       "    </tr>\n",
       "  </tbody>\n",
       "</table>\n",
       "<p>3 rows × 32 columns</p>\n",
       "</div>"
      ],
      "text/plain": [
       "                        _id                      created_at  \\\n",
       "0  5f69f23fe2a814bf79d44352  Mon Sep 21 23:59:56 +0000 2020   \n",
       "1  5f69f23fe2a814bf79d44353  Mon Sep 21 23:59:52 +0000 2020   \n",
       "2  5f69f23fe2a814bf79d44354  Mon Sep 21 23:59:51 +0000 2020   \n",
       "\n",
       "                    id               id_str  \\\n",
       "0  1308194281237016579  1308194281237016579   \n",
       "1  1308194265756045314  1308194265756045314   \n",
       "2  1308194260219355136  1308194260219355136   \n",
       "\n",
       "                                                text  truncated  \\\n",
       "0  @haydentiff @bgarlinghouse @chrislarsensf @joe...       True   \n",
       "1  #investing 165.3% in this optimal #crypto port...       True   \n",
       "2  rt @davidgokhshtein: i will give someone $20 i...      False   \n",
       "\n",
       "                                            entities  \\\n",
       "0  {'hashtags': [], 'symbols': [], 'user_mentions...   \n",
       "1  {'hashtags': [{'text': 'Investing', 'indices':...   \n",
       "2  {'hashtags': [], 'symbols': [], 'user_mentions...   \n",
       "\n",
       "                                            metadata  \\\n",
       "0  {'iso_language_code': 'en', 'result_type': 're...   \n",
       "1  {'iso_language_code': 'en', 'result_type': 're...   \n",
       "2  {'iso_language_code': 'en', 'result_type': 're...   \n",
       "\n",
       "                                              source  in_reply_to_status_id  \\\n",
       "0  <a href=\"https://mobile.twitter.com\" rel=\"nofo...           1.308193e+18   \n",
       "1  <a href=\"http://www.nalint.com/crypto\" rel=\"no...                    NaN   \n",
       "2  <a href=\"http://twitter.com/download/android\" ...                    NaN   \n",
       "\n",
       "   ... favorited  retweeted lang possibly_sensitive  \\\n",
       "0  ...     False      False   en                NaN   \n",
       "1  ...     False      False   en              False   \n",
       "2  ...     False      False   en                NaN   \n",
       "\n",
       "                                    retweeted_status quoted_status_id  \\\n",
       "0                                                NaN              NaN   \n",
       "1                                                NaN              NaN   \n",
       "2  {'created_at': 'Mon Sep 21 23:32:58 +0000 2020...              NaN   \n",
       "\n",
       "  quoted_status_id_str quoted_status extended_entities  \\\n",
       "0                  NaN           NaN               NaN   \n",
       "1                  NaN           NaN               NaN   \n",
       "2                  NaN           NaN               NaN   \n",
       "\n",
       "                                     lemmatized_text  \n",
       "0  @ haydentiff @ bgarlinghouse @ chrislarsensf @...  \n",
       "1  # invest 165.3 % in this optimal # crypto port...  \n",
       "2  rt @ davidgokhshtein : i will give someone $ 2...  \n",
       "\n",
       "[3 rows x 32 columns]"
      ]
     },
     "execution_count": 11,
     "metadata": {},
     "output_type": "execute_result"
    }
   ],
   "source": [
    "# Apply the preprocessing on the tweets\n",
    "df = tp.preprocess_data()\n",
    "df.head(3)"
   ]
  },
  {
   "cell_type": "markdown",
   "metadata": {},
   "source": [
    "## 6. Analyze sentiment of tweets"
   ]
  },
  {
   "cell_type": "code",
   "execution_count": 12,
   "metadata": {},
   "outputs": [],
   "source": [
    "class TweetSentimentAnalyzer:\n",
    "    \"\"\"\n",
    "    Input:\n",
    "        Cleaned tweets downloaded from the Twitter API\n",
    "    \n",
    "    Attributes:\n",
    "        df : dataframe\n",
    "            A dataframe containing the cleaned tweets\n",
    "    \n",
    "    Output:\n",
    "        The input dataframe including an additional column with the sentiment polarity score\n",
    "    \"\"\"\n",
    "    \n",
    "    # Instantiate the SentimentIntensityAnalyzer as a class attribute\n",
    "    sid = SentimentIntensityAnalyzer()\n",
    "    \n",
    "    def __init__(self, df):\n",
    "        self.df = df\n",
    "        \n",
    "    def analyze_sentiment(self):\n",
    "        \"\"\" Loop through the cleaned tweets and assign a polarity score for each one \"\"\"\n",
    "        for index, row in self.df.iterrows():\n",
    "            s = row['text']\n",
    "            ss = self.sid.polarity_scores(s)\n",
    "            self.df.loc[index, 'sentiment'] = ss['compound']\n",
    "        \n",
    "        return self.df"
   ]
  },
  {
   "cell_type": "code",
   "execution_count": 13,
   "metadata": {},
   "outputs": [],
   "source": [
    "# Instantiate a new TweetSentimentAnalyzer with the df containing all the cleaned tweets\n",
    "ts = TweetSentimentAnalyzer(df)"
   ]
  },
  {
   "cell_type": "code",
   "execution_count": 14,
   "metadata": {
    "scrolled": false
   },
   "outputs": [
    {
     "data": {
      "text/html": [
       "<div>\n",
       "<style scoped>\n",
       "    .dataframe tbody tr th:only-of-type {\n",
       "        vertical-align: middle;\n",
       "    }\n",
       "\n",
       "    .dataframe tbody tr th {\n",
       "        vertical-align: top;\n",
       "    }\n",
       "\n",
       "    .dataframe thead th {\n",
       "        text-align: right;\n",
       "    }\n",
       "</style>\n",
       "<table border=\"1\" class=\"dataframe\">\n",
       "  <thead>\n",
       "    <tr style=\"text-align: right;\">\n",
       "      <th></th>\n",
       "      <th>_id</th>\n",
       "      <th>created_at</th>\n",
       "      <th>id</th>\n",
       "      <th>id_str</th>\n",
       "      <th>text</th>\n",
       "      <th>truncated</th>\n",
       "      <th>entities</th>\n",
       "      <th>metadata</th>\n",
       "      <th>source</th>\n",
       "      <th>in_reply_to_status_id</th>\n",
       "      <th>...</th>\n",
       "      <th>retweeted</th>\n",
       "      <th>lang</th>\n",
       "      <th>possibly_sensitive</th>\n",
       "      <th>retweeted_status</th>\n",
       "      <th>quoted_status_id</th>\n",
       "      <th>quoted_status_id_str</th>\n",
       "      <th>quoted_status</th>\n",
       "      <th>extended_entities</th>\n",
       "      <th>lemmatized_text</th>\n",
       "      <th>sentiment</th>\n",
       "    </tr>\n",
       "  </thead>\n",
       "  <tbody>\n",
       "    <tr>\n",
       "      <th>0</th>\n",
       "      <td>5f69f23fe2a814bf79d44352</td>\n",
       "      <td>Mon Sep 21 23:59:56 +0000 2020</td>\n",
       "      <td>1308194281237016579</td>\n",
       "      <td>1308194281237016579</td>\n",
       "      <td>@haydentiff @bgarlinghouse @chrislarsensf @joe...</td>\n",
       "      <td>True</td>\n",
       "      <td>{'hashtags': [], 'symbols': [], 'user_mentions...</td>\n",
       "      <td>{'iso_language_code': 'en', 'result_type': 're...</td>\n",
       "      <td>&lt;a href=\"https://mobile.twitter.com\" rel=\"nofo...</td>\n",
       "      <td>1.308193e+18</td>\n",
       "      <td>...</td>\n",
       "      <td>False</td>\n",
       "      <td>en</td>\n",
       "      <td>NaN</td>\n",
       "      <td>NaN</td>\n",
       "      <td>NaN</td>\n",
       "      <td>NaN</td>\n",
       "      <td>NaN</td>\n",
       "      <td>NaN</td>\n",
       "      <td>@ haydentiff @ bgarlinghouse @ chrislarsensf @...</td>\n",
       "      <td>0.4404</td>\n",
       "    </tr>\n",
       "    <tr>\n",
       "      <th>1</th>\n",
       "      <td>5f69f23fe2a814bf79d44353</td>\n",
       "      <td>Mon Sep 21 23:59:52 +0000 2020</td>\n",
       "      <td>1308194265756045314</td>\n",
       "      <td>1308194265756045314</td>\n",
       "      <td>#investing 165.3% in this optimal #crypto port...</td>\n",
       "      <td>True</td>\n",
       "      <td>{'hashtags': [{'text': 'Investing', 'indices':...</td>\n",
       "      <td>{'iso_language_code': 'en', 'result_type': 're...</td>\n",
       "      <td>&lt;a href=\"http://www.nalint.com/crypto\" rel=\"no...</td>\n",
       "      <td>NaN</td>\n",
       "      <td>...</td>\n",
       "      <td>False</td>\n",
       "      <td>en</td>\n",
       "      <td>False</td>\n",
       "      <td>NaN</td>\n",
       "      <td>NaN</td>\n",
       "      <td>NaN</td>\n",
       "      <td>NaN</td>\n",
       "      <td>NaN</td>\n",
       "      <td># invest 165.3 % in this optimal # crypto port...</td>\n",
       "      <td>0.4357</td>\n",
       "    </tr>\n",
       "    <tr>\n",
       "      <th>2</th>\n",
       "      <td>5f69f23fe2a814bf79d44354</td>\n",
       "      <td>Mon Sep 21 23:59:51 +0000 2020</td>\n",
       "      <td>1308194260219355136</td>\n",
       "      <td>1308194260219355136</td>\n",
       "      <td>rt @davidgokhshtein: i will give someone $20 i...</td>\n",
       "      <td>False</td>\n",
       "      <td>{'hashtags': [], 'symbols': [], 'user_mentions...</td>\n",
       "      <td>{'iso_language_code': 'en', 'result_type': 're...</td>\n",
       "      <td>&lt;a href=\"http://twitter.com/download/android\" ...</td>\n",
       "      <td>NaN</td>\n",
       "      <td>...</td>\n",
       "      <td>False</td>\n",
       "      <td>en</td>\n",
       "      <td>NaN</td>\n",
       "      <td>{'created_at': 'Mon Sep 21 23:32:58 +0000 2020...</td>\n",
       "      <td>NaN</td>\n",
       "      <td>NaN</td>\n",
       "      <td>NaN</td>\n",
       "      <td>NaN</td>\n",
       "      <td>rt @ davidgokhshtein : i will give someone $ 2...</td>\n",
       "      <td>0.0000</td>\n",
       "    </tr>\n",
       "  </tbody>\n",
       "</table>\n",
       "<p>3 rows × 33 columns</p>\n",
       "</div>"
      ],
      "text/plain": [
       "                        _id                      created_at  \\\n",
       "0  5f69f23fe2a814bf79d44352  Mon Sep 21 23:59:56 +0000 2020   \n",
       "1  5f69f23fe2a814bf79d44353  Mon Sep 21 23:59:52 +0000 2020   \n",
       "2  5f69f23fe2a814bf79d44354  Mon Sep 21 23:59:51 +0000 2020   \n",
       "\n",
       "                    id               id_str  \\\n",
       "0  1308194281237016579  1308194281237016579   \n",
       "1  1308194265756045314  1308194265756045314   \n",
       "2  1308194260219355136  1308194260219355136   \n",
       "\n",
       "                                                text  truncated  \\\n",
       "0  @haydentiff @bgarlinghouse @chrislarsensf @joe...       True   \n",
       "1  #investing 165.3% in this optimal #crypto port...       True   \n",
       "2  rt @davidgokhshtein: i will give someone $20 i...      False   \n",
       "\n",
       "                                            entities  \\\n",
       "0  {'hashtags': [], 'symbols': [], 'user_mentions...   \n",
       "1  {'hashtags': [{'text': 'Investing', 'indices':...   \n",
       "2  {'hashtags': [], 'symbols': [], 'user_mentions...   \n",
       "\n",
       "                                            metadata  \\\n",
       "0  {'iso_language_code': 'en', 'result_type': 're...   \n",
       "1  {'iso_language_code': 'en', 'result_type': 're...   \n",
       "2  {'iso_language_code': 'en', 'result_type': 're...   \n",
       "\n",
       "                                              source  in_reply_to_status_id  \\\n",
       "0  <a href=\"https://mobile.twitter.com\" rel=\"nofo...           1.308193e+18   \n",
       "1  <a href=\"http://www.nalint.com/crypto\" rel=\"no...                    NaN   \n",
       "2  <a href=\"http://twitter.com/download/android\" ...                    NaN   \n",
       "\n",
       "   ... retweeted  lang possibly_sensitive  \\\n",
       "0  ...     False    en                NaN   \n",
       "1  ...     False    en              False   \n",
       "2  ...     False    en                NaN   \n",
       "\n",
       "                                    retweeted_status quoted_status_id  \\\n",
       "0                                                NaN              NaN   \n",
       "1                                                NaN              NaN   \n",
       "2  {'created_at': 'Mon Sep 21 23:32:58 +0000 2020...              NaN   \n",
       "\n",
       "  quoted_status_id_str quoted_status extended_entities  \\\n",
       "0                  NaN           NaN               NaN   \n",
       "1                  NaN           NaN               NaN   \n",
       "2                  NaN           NaN               NaN   \n",
       "\n",
       "                                     lemmatized_text  sentiment  \n",
       "0  @ haydentiff @ bgarlinghouse @ chrislarsensf @...     0.4404  \n",
       "1  # invest 165.3 % in this optimal # crypto port...     0.4357  \n",
       "2  rt @ davidgokhshtein : i will give someone $ 2...     0.0000  \n",
       "\n",
       "[3 rows x 33 columns]"
      ]
     },
     "execution_count": 14,
     "metadata": {},
     "output_type": "execute_result"
    }
   ],
   "source": [
    "# Apply the sentiment analysis on the cleaned tweets\n",
    "df = ts.analyze_sentiment()\n",
    "df.head(3)"
   ]
  },
  {
   "cell_type": "markdown",
   "metadata": {},
   "source": [
    "## 7. Visualize results"
   ]
  },
  {
   "cell_type": "markdown",
   "metadata": {},
   "source": [
    "__Plot the distribution of the polarity scores from negative (-1.0) to positive (1.0) as well as the most frequent occurring words in the collected tweets__"
   ]
  },
  {
   "cell_type": "code",
   "execution_count": 15,
   "metadata": {},
   "outputs": [],
   "source": [
    "# Use CountVectorizor to find two letter tokens and remove stop_words\n",
    "vect = CountVectorizer(stop_words='english', token_pattern='(?u)\\\\b\\\\w\\\\w\\\\w+\\\\b')\n",
    "words = vect.fit_transform(df['text'])"
   ]
  },
  {
   "cell_type": "code",
   "execution_count": 16,
   "metadata": {},
   "outputs": [],
   "source": [
    "def plot_sentiment(df):\n",
    "    \"\"\" \n",
    "    Plot the sentiment analysis.\n",
    "    \"\"\"\n",
    "    fig = plt.figure(figsize=(12,6))\n",
    "    ax = fig.add_subplot(1,1,1)\n",
    "    bins = np.linspace(-1, 1, 21)\n",
    "    ax = sns.distplot(df['sentiment'], bins=bins)\n",
    "    ax.set_xlabel('Sentiment \\n Search string: {}'.format(search_string), fontsize='large')\n",
    "    ax.set_ylabel('Density', fontsize='large')\n",
    "    ax.set_title('Sentiment analysis distribution', fontsize='x-large', fontweight='bold')\n",
    "    \n",
    "def plot_wordfreq(df):\n",
    "    \"\"\" \n",
    "    Plot the word frequencies.\n",
    "    \"\"\"\n",
    "    words_sum = words.sum(axis=0)\n",
    "    words_freq = [(word, words_sum[0, i]) for word, i in vect.vocabulary_.items()]\n",
    "    words_freq = sorted(words_freq, key = lambda x: x[1], reverse = True)\n",
    "    freq = pd.DataFrame(words_freq, columns=['word', 'freq'])\n",
    "\n",
    "    fig = plt.figure(figsize=(12,6))\n",
    "    ax = sns.barplot(freq['word'].head(20), freq['freq'].head(20), palette='Blues_r')\n",
    "    ax.set_xticklabels(ax.get_xticklabels(), rotation=45)\n",
    "    ax.set_xlabel('Word', fontsize='large')\n",
    "    ax.set_ylabel('Frequency', fontsize='large')\n",
    "    ax.set_title('Word frequency', fontsize='x-large', fontweight='bold')"
   ]
  },
  {
   "cell_type": "code",
   "execution_count": 17,
   "metadata": {},
   "outputs": [
    {
     "data": {
      "image/png": "[encoded data removed]",
      "text/plain": [
       "<Figure size 864x432 with 1 Axes>"
      ]
     },
     "metadata": {
      "needs_background": "light"
     },
     "output_type": "display_data"
    },
    {
     "data": {
      "image/png": "[encoded data removed]",
      "text/plain": [
       "<Figure size 864x432 with 1 Axes>"
      ]
     },
     "metadata": {
      "needs_background": "light"
     },
     "output_type": "display_data"
    }
   ],
   "source": [
    "plot_sentiment(df)\n",
    "plot_wordfreq(df)"
   ]
  }
 ],
 "metadata": {
  "kernelspec": {
   "display_name": "Python 3",
   "language": "python",
   "name": "python3"
  },
  "language_info": {
   "codemirror_mode": {
    "name": "ipython",
    "version": 3
   },
   "file_extension": ".py",
   "mimetype": "text/x-python",
   "name": "python",
   "nbconvert_exporter": "python",
   "pygments_lexer": "ipython3",
   "version": "3.7.6"
  }
 },
 "nbformat": 4,
 "nbformat_minor": 4
}
